{
 "cells": [
  {
   "cell_type": "code",
   "execution_count": 39,
   "id": "9512b28d-5708-4adc-b2ab-1f29dc1d96b9",
   "metadata": {},
   "outputs": [
    {
     "name": "stdout",
     "output_type": "stream",
     "text": [
      "Requirement already satisfied: pandas in c:\\users\\anits-csm\\anaconda3\\lib\\site-packages (2.1.4)Note: you may need to restart the kernel to use updated packages.\n",
      "\n",
      "Requirement already satisfied: numpy in c:\\users\\anits-csm\\anaconda3\\lib\\site-packages (1.26.4)\n",
      "Requirement already satisfied: scipy in c:\\users\\anits-csm\\anaconda3\\lib\\site-packages (1.11.4)\n",
      "Requirement already satisfied: scikit-learn in c:\\users\\anits-csm\\anaconda3\\lib\\site-packages (1.2.2)\n",
      "Requirement already satisfied: statsmodels in c:\\users\\anits-csm\\anaconda3\\lib\\site-packages (0.14.0)\n",
      "Requirement already satisfied: python-dateutil>=2.8.2 in c:\\users\\anits-csm\\anaconda3\\lib\\site-packages (from pandas) (2.8.2)\n",
      "Requirement already satisfied: pytz>=2020.1 in c:\\users\\anits-csm\\anaconda3\\lib\\site-packages (from pandas) (2023.3.post1)\n",
      "Requirement already satisfied: tzdata>=2022.1 in c:\\users\\anits-csm\\anaconda3\\lib\\site-packages (from pandas) (2023.3)\n",
      "Requirement already satisfied: joblib>=1.1.1 in c:\\users\\anits-csm\\anaconda3\\lib\\site-packages (from scikit-learn) (1.2.0)\n",
      "Requirement already satisfied: threadpoolctl>=2.0.0 in c:\\users\\anits-csm\\anaconda3\\lib\\site-packages (from scikit-learn) (2.2.0)\n",
      "Requirement already satisfied: patsy>=0.5.2 in c:\\users\\anits-csm\\anaconda3\\lib\\site-packages (from statsmodels) (0.5.3)\n",
      "Requirement already satisfied: packaging>=21.3 in c:\\users\\anits-csm\\anaconda3\\lib\\site-packages (from statsmodels) (23.1)\n",
      "Requirement already satisfied: six in c:\\users\\anits-csm\\anaconda3\\lib\\site-packages (from patsy>=0.5.2->statsmodels) (1.16.0)\n"
     ]
    }
   ],
   "source": [
    "pip install pandas numpy scipy scikit-learn statsmodels\n"
   ]
  },
  {
   "cell_type": "markdown",
   "id": "fe3dd09b-070e-47db-a772-b1e4e9151805",
   "metadata": {},
   "source": [
    "### 1) Loading the Wine Dataset"
   ]
  },
  {
   "cell_type": "markdown",
   "id": "fe208411-5f81-4082-8d48-3ff6cfb09ba0",
   "metadata": {},
   "source": [
    "- Import Libraries: Import pandas for handling data and load_wine to get the wine dataset.\r",
    "- \n",
    "Load Dataset: wine = load_wine() loads the dataset\n",
    "- \r\n",
    "Create DataFrame: df is created to hold the data in a table-like structure with columns named after the features\n",
    "- . df['target'] adds a column for the target labels (i.e., wine categories\n",
    "- .\r\n",
    "Display Data: print(df.head()) shows the first few rows of the dataset so you can see what it looks like.ke."
   ]
  },
  {
   "cell_type": "code",
   "execution_count": 40,
   "id": "136ed4f7-03e2-4aa2-9365-5e35e75a120b",
   "metadata": {},
   "outputs": [
    {
     "name": "stdout",
     "output_type": "stream",
     "text": [
      "   alcohol  malic_acid   ash  alcalinity_of_ash  magnesium  total_phenols  \\\n",
      "0    14.23        1.71  2.43               15.6      127.0           2.80   \n",
      "1    13.20        1.78  2.14               11.2      100.0           2.65   \n",
      "2    13.16        2.36  2.67               18.6      101.0           2.80   \n",
      "3    14.37        1.95  2.50               16.8      113.0           3.85   \n",
      "4    13.24        2.59  2.87               21.0      118.0           2.80   \n",
      "\n",
      "   flavanoids  nonflavanoid_phenols  proanthocyanins  color_intensity   hue  \\\n",
      "0        3.06                  0.28             2.29             5.64  1.04   \n",
      "1        2.76                  0.26             1.28             4.38  1.05   \n",
      "2        3.24                  0.30             2.81             5.68  1.03   \n",
      "3        3.49                  0.24             2.18             7.80  0.86   \n",
      "4        2.69                  0.39             1.82             4.32  1.04   \n",
      "\n",
      "   od280/od315_of_diluted_wines  proline  target  \n",
      "0                          3.92   1065.0       0  \n",
      "1                          3.40   1050.0       0  \n",
      "2                          3.17   1185.0       0  \n",
      "3                          3.45   1480.0       0  \n",
      "4                          2.93    735.0       0  \n"
     ]
    }
   ],
   "source": [
    "\n",
    "import pandas as pd\n",
    "from sklearn.datasets import load_wine\n",
    "\n",
    "# Load the dataset\n",
    "wine = load_wine()\n",
    "df = pd.DataFrame(data=wine.data, columns=wine.feature_names)\n",
    "df['target'] = wine.target\n",
    "\n",
    "# Display the first few rows\n",
    "print(df.head())\n"
   ]
  },
  {
   "cell_type": "markdown",
   "id": "f78c3670-80f3-4f4b-8c46-1a2720c067e6",
   "metadata": {},
   "source": [
    "### 2) Performing Descriptive Statistics"
   ]
  },
  {
   "cell_type": "markdown",
   "id": "c4b56dcc-2010-4b37-869c-ec67a6b3bf30",
   "metadata": {},
   "source": [
    "- Mean: Average value of each feature.\n",
    "- Median: Middle value when the data is sorted.\n",
    "- Mode: Most frequent value. .iloc[0] selects the first mode in case there are multiple.\n",
    "- Standard Deviation: Measures how spread out the values are from the mean.\n",
    "- Variance: The square of the standard deviation, showing spread.\n",
    "- Range: Difference between the maximum and minimum values.\n",
    "- Skewness: Measures the asymmetry of the data distribution.\n",
    "- Kurtosis: Measures the \"tailedness\" of the data distribution."
   ]
  },
  {
   "cell_type": "code",
   "execution_count": 41,
   "id": "066c9693-f604-421f-84d9-0b74055175fc",
   "metadata": {},
   "outputs": [
    {
     "name": "stdout",
     "output_type": "stream",
     "text": [
      "Mean:\n",
      " alcohol                          13.000618\n",
      "malic_acid                        2.336348\n",
      "ash                               2.366517\n",
      "alcalinity_of_ash                19.494944\n",
      "magnesium                        99.741573\n",
      "total_phenols                     2.295112\n",
      "flavanoids                        2.029270\n",
      "nonflavanoid_phenols              0.361854\n",
      "proanthocyanins                   1.590899\n",
      "color_intensity                   5.058090\n",
      "hue                               0.957449\n",
      "od280/od315_of_diluted_wines      2.611685\n",
      "proline                         746.893258\n",
      "target                            0.938202\n",
      "dtype: float64\n",
      "\n",
      "Median:\n",
      " alcohol                          13.050\n",
      "malic_acid                        1.865\n",
      "ash                               2.360\n",
      "alcalinity_of_ash                19.500\n",
      "magnesium                        98.000\n",
      "total_phenols                     2.355\n",
      "flavanoids                        2.135\n",
      "nonflavanoid_phenols              0.340\n",
      "proanthocyanins                   1.555\n",
      "color_intensity                   4.690\n",
      "hue                               0.965\n",
      "od280/od315_of_diluted_wines      2.780\n",
      "proline                         673.500\n",
      "target                            1.000\n",
      "dtype: float64\n",
      "\n",
      "Mode:\n",
      " alcohol                          12.37\n",
      "malic_acid                        1.73\n",
      "ash                               2.28\n",
      "alcalinity_of_ash                20.00\n",
      "magnesium                        88.00\n",
      "total_phenols                     2.20\n",
      "flavanoids                        2.65\n",
      "nonflavanoid_phenols              0.26\n",
      "proanthocyanins                   1.35\n",
      "color_intensity                   2.60\n",
      "hue                               1.04\n",
      "od280/od315_of_diluted_wines      2.87\n",
      "proline                         520.00\n",
      "target                            1.00\n",
      "Name: 0, dtype: float64\n",
      "\n",
      "Standard Deviation:\n",
      " alcohol                           0.811827\n",
      "malic_acid                        1.117146\n",
      "ash                               0.274344\n",
      "alcalinity_of_ash                 3.339564\n",
      "magnesium                        14.282484\n",
      "total_phenols                     0.625851\n",
      "flavanoids                        0.998859\n",
      "nonflavanoid_phenols              0.124453\n",
      "proanthocyanins                   0.572359\n",
      "color_intensity                   2.318286\n",
      "hue                               0.228572\n",
      "od280/od315_of_diluted_wines      0.709990\n",
      "proline                         314.907474\n",
      "target                            0.775035\n",
      "dtype: float64\n",
      "\n",
      "Variance:\n",
      " alcohol                             0.659062\n",
      "malic_acid                          1.248015\n",
      "ash                                 0.075265\n",
      "alcalinity_of_ash                  11.152686\n",
      "magnesium                         203.989335\n",
      "total_phenols                       0.391690\n",
      "flavanoids                          0.997719\n",
      "nonflavanoid_phenols                0.015489\n",
      "proanthocyanins                     0.327595\n",
      "color_intensity                     5.374449\n",
      "hue                                 0.052245\n",
      "od280/od315_of_diluted_wines        0.504086\n",
      "proline                         99166.717355\n",
      "target                              0.600679\n",
      "dtype: float64\n",
      "\n",
      "Range:\n",
      " alcohol                            3.80\n",
      "malic_acid                         5.06\n",
      "ash                                1.87\n",
      "alcalinity_of_ash                 19.40\n",
      "magnesium                         92.00\n",
      "total_phenols                      2.90\n",
      "flavanoids                         4.74\n",
      "nonflavanoid_phenols               0.53\n",
      "proanthocyanins                    3.17\n",
      "color_intensity                   11.72\n",
      "hue                                1.23\n",
      "od280/od315_of_diluted_wines       2.73\n",
      "proline                         1402.00\n",
      "target                             2.00\n",
      "dtype: float64\n",
      "\n",
      "Skewness:\n",
      " alcohol                        -0.051482\n",
      "malic_acid                      1.039651\n",
      "ash                            -0.176699\n",
      "alcalinity_of_ash               0.213047\n",
      "magnesium                       1.098191\n",
      "total_phenols                   0.086639\n",
      "flavanoids                      0.025344\n",
      "nonflavanoid_phenols            0.450151\n",
      "proanthocyanins                 0.517137\n",
      "color_intensity                 0.868585\n",
      "hue                             0.021091\n",
      "od280/od315_of_diluted_wines   -0.307285\n",
      "proline                         0.767822\n",
      "target                          0.107431\n",
      "dtype: float64\n",
      "\n",
      "Kurtosis:\n",
      " alcohol                        -0.852500\n",
      "malic_acid                      0.299207\n",
      "ash                             1.143978\n",
      "alcalinity_of_ash               0.487942\n",
      "magnesium                       2.104991\n",
      "total_phenols                  -0.835627\n",
      "flavanoids                     -0.880382\n",
      "nonflavanoid_phenols           -0.637191\n",
      "proanthocyanins                 0.554649\n",
      "color_intensity                 0.381522\n",
      "hue                            -0.344096\n",
      "od280/od315_of_diluted_wines   -1.086435\n",
      "proline                        -0.248403\n",
      "target                         -1.322787\n",
      "dtype: float64\n"
     ]
    }
   ],
   "source": [
    "\n",
    "# Calculate basic descriptive statistics\n",
    "print(\"Mean:\\n\", df.mean())\n",
    "print(\"\\nMedian:\\n\", df.median())\n",
    "print(\"\\nMode:\\n\", df.mode().iloc[0])\n",
    "print(\"\\nStandard Deviation:\\n\", df.std())\n",
    "print(\"\\nVariance:\\n\", df.var())\n",
    "\n",
    "# Additional descriptive statistics\n",
    "print(\"\\nRange:\\n\", df.max() - df.min())\n",
    "print(\"\\nSkewness:\\n\", df.skew())\n",
    "print(\"\\nKurtosis:\\n\", df.kurt())\n"
   ]
  },
  {
   "cell_type": "markdown",
   "id": "a63ff554-69ee-4540-a013-d9547856c7a3",
   "metadata": {},
   "source": [
    "### 3) Performing Inferential Statistics"
   ]
  },
  {
   "cell_type": "markdown",
   "id": "b5c0866d-1fd2-493b-a6a1-32a6df9171c8",
   "metadata": {},
   "source": [
    "- Import Libraries: Import scipy.stats for statistical tests.\n",
    "- Select Feature: Choose the 'alcohol' content from the dataset.\n",
    "- Hypothetical Mean: Set a value (13.0) to compare against.\n",
    "- One-Sample T-Test: Test if the sample mean of 'alcohol' is different from 13.0. t_stat tells how much the sample mean deviates from the hypothetical mean, and p_value shows the probability that this deviation is due to chance."
   ]
  },
  {
   "cell_type": "code",
   "execution_count": 42,
   "id": "0205e6cb-5989-4110-aaf3-9fb611290f97",
   "metadata": {},
   "outputs": [
    {
     "name": "stdout",
     "output_type": "stream",
     "text": [
      "T-Statistic: 0.01015592394800969\n",
      "P-Value: 0.9919083221024861\n"
     ]
    }
   ],
   "source": [
    "\n",
    "from scipy import stats\n",
    "import pandas as pd\n",
    "from sklearn.datasets import load_wine\n",
    "\n",
    "# Select the feature of interest, e.g., 'alcohol'\n",
    "alcohol_values = df['alcohol']\n",
    "\n",
    "# Hypothetical population mean for the alcohol content\n",
    "population_mean = 13.0\n",
    "\n",
    "# Perform one-sample t-test\n",
    "t_stat, p_value = stats.ttest_1samp(alcohol_values, population_mean)\n",
    "\n",
    "print(\"T-Statistic:\", t_stat)\n",
    "print(\"P-Value:\", p_value)\n"
   ]
  },
  {
   "cell_type": "markdown",
   "id": "ff2ce9d6-65e7-477c-97e6-2f7e7cb46e49",
   "metadata": {},
   "source": [
    "### 4) Confidence Intervals"
   ]
  },
  {
   "cell_type": "markdown",
   "id": "2e74f2bf-ee7e-4ddc-b3df-8e8f7b22e489",
   "metadata": {},
   "source": [
    "- Import Libraries: Import numpy and scipy for calculations.\n",
    "- Sample Mean & Standard Error: Calculate the average ('sample_mean') and the standard error (how much the sample mean might differ from the true mean).\n",
    "- Confidence Interval: Calculate a range where you are 95% confident the true mean lies. This gives a sense of the uncertainty around the sample mean."
   ]
  },
  {
   "cell_type": "code",
   "execution_count": 43,
   "id": "161b998b-7564-48b3-96cd-34133bd2690b",
   "metadata": {},
   "outputs": [
    {
     "name": "stdout",
     "output_type": "stream",
     "text": [
      "95% Confidence Interval for Alcohol Content: (12.881356184655965, 13.119879770400216)\n"
     ]
    }
   ],
   "source": [
    "import numpy as np\n",
    "from scipy import stats\n",
    "import pandas as pd\n",
    "\n",
    "# Sample mean and standard error for the selected feature (alcohol)\n",
    "sample_mean = np.mean(alcohol_values)\n",
    "standard_error = stats.sem(alcohol_values)\n",
    "\n",
    "# Compute the 95% confidence interval for the alcohol content\n",
    "confidence_interval = stats.norm.interval(0.95, loc=sample_mean, scale=standard_error)\n",
    "\n",
    "print(\"95% Confidence Interval for Alcohol Content:\", confidence_interval)\n"
   ]
  },
  {
   "cell_type": "markdown",
   "id": "49b7da2a-c9ed-4b21-a7c6-dbdedb08f6f0",
   "metadata": {},
   "source": [
    "### 5) Regression Analysis"
   ]
  },
  {
   "cell_type": "markdown",
   "id": "774164d5-7823-41ae-b262-6c41e6687c03",
   "metadata": {},
   "source": [
    "- Import Libraries: Import statsmodels for regression analysis.\n",
    "- Prepare Data: X is the independent variable (e.g., 'alcohol') with a constant added for the intercept. y is the dependent variable (e.g., wine categories).\n",
    "- Fit Model: Perform linear regression to model the relationship between the independent and dependent variables.\n",
    "- Print Summary: Show details about the model, including how well it fits the data and the significance of the relationships."
   ]
  },
  {
   "cell_type": "code",
   "execution_count": 44,
   "id": "39c6926a-f2af-4f3c-bcc6-3d660ec31bf7",
   "metadata": {},
   "outputs": [
    {
     "name": "stdout",
     "output_type": "stream",
     "text": [
      "                            OLS Regression Results                            \n",
      "==============================================================================\n",
      "Dep. Variable:                      y   R-squared:                       0.108\n",
      "Model:                            OLS   Adj. R-squared:                  0.103\n",
      "Method:                 Least Squares   F-statistic:                     21.25\n",
      "Date:                Wed, 04 Sep 2024   Prob (F-statistic):           7.72e-06\n",
      "Time:                        15:02:34   Log-Likelihood:                -196.56\n",
      "No. Observations:                 178   AIC:                             397.1\n",
      "Df Residuals:                     176   BIC:                             403.5\n",
      "Df Model:                           1                                         \n",
      "Covariance Type:            nonrobust                                         \n",
      "==============================================================================\n",
      "                 coef    std err          t      P>|t|      [0.025      0.975]\n",
      "------------------------------------------------------------------------------\n",
      "const          5.0119      0.885      5.660      0.000       3.264       6.759\n",
      "alcohol       -0.3133      0.068     -4.610      0.000      -0.447      -0.179\n",
      "==============================================================================\n",
      "Omnibus:                       40.763   Durbin-Watson:                   0.101\n",
      "Prob(Omnibus):                  0.000   Jarque-Bera (JB):               20.233\n",
      "Skew:                           0.659   Prob(JB):                     4.04e-05\n",
      "Kurtosis:                       2.004   Cond. No.                         211.\n",
      "==============================================================================\n",
      "\n",
      "Notes:\n",
      "[1] Standard Errors assume that the covariance matrix of the errors is correctly specified.\n"
     ]
    }
   ],
   "source": [
    "import statsmodels.api as sm\n",
    "import pandas as pd\n",
    "\n",
    "# Define independent variable (add constant for intercept)\n",
    "X = sm.add_constant(df['alcohol'])  # Replace 'bmi' with 'alcohol' or any other feature from the wine dataset\n",
    "\n",
    "# Define dependent variable (e.g., target variable in the wine dataset)\n",
    "y = wine.target\n",
    "\n",
    "# Fit linear regression model\n",
    "model = sm.OLS(y, X).fit()\n",
    "\n",
    "# Print model summary\n",
    "print(model.summary())\n"
   ]
  },
  {
   "cell_type": "code",
   "execution_count": null,
   "id": "aa4f665a-09db-469f-91dc-c5b1c62cca49",
   "metadata": {},
   "outputs": [],
   "source": []
  }
 ],
 "metadata": {
  "kernelspec": {
   "display_name": "Python 3 (ipykernel)",
   "language": "python",
   "name": "python3"
  },
  "language_info": {
   "codemirror_mode": {
    "name": "ipython",
    "version": 3
   },
   "file_extension": ".py",
   "mimetype": "text/x-python",
   "name": "python",
   "nbconvert_exporter": "python",
   "pygments_lexer": "ipython3",
   "version": "3.11.7"
  }
 },
 "nbformat": 4,
 "nbformat_minor": 5
}
